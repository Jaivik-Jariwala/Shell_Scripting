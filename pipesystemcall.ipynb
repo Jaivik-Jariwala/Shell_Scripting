{
 "cells": [
  {
   "cell_type": "code",
   "execution_count": 1,
   "metadata": {},
   "outputs": [
    {
     "ename": "FileNotFoundError",
     "evalue": "[WinError 2] The system cannot find the file specified",
     "output_type": "error",
     "traceback": [
      "\u001b[1;31m---------------------------------------------------------------------------\u001b[0m",
      "\u001b[1;31mFileNotFoundError\u001b[0m                         Traceback (most recent call last)",
      "Cell \u001b[1;32mIn[1], line 10\u001b[0m\n\u001b[0;32m      7\u001b[0m cmd2 \u001b[39m=\u001b[39m [\u001b[39m\"\u001b[39m\u001b[39mwc\u001b[39m\u001b[39m\"\u001b[39m, \u001b[39m\"\u001b[39m\u001b[39m-l\u001b[39m\u001b[39m\"\u001b[39m]\n\u001b[0;32m      9\u001b[0m \u001b[39m# Use subprocess to run cmd1 and pipe its output to cmd2\u001b[39;00m\n\u001b[1;32m---> 10\u001b[0m p1 \u001b[39m=\u001b[39m subprocess\u001b[39m.\u001b[39;49mPopen(cmd1, stdout\u001b[39m=\u001b[39;49msubprocess\u001b[39m.\u001b[39;49mPIPE)\n\u001b[0;32m     11\u001b[0m p2 \u001b[39m=\u001b[39m subprocess\u001b[39m.\u001b[39mPopen(cmd2, stdin\u001b[39m=\u001b[39mp1\u001b[39m.\u001b[39mstdout, stdout\u001b[39m=\u001b[39msubprocess\u001b[39m.\u001b[39mPIPE)\n\u001b[0;32m     13\u001b[0m \u001b[39m# Get the output of the piped commands\u001b[39;00m\n",
      "File \u001b[1;32mc:\\Users\\jaivi\\AppData\\Local\\Programs\\Python\\Python39\\lib\\subprocess.py:947\u001b[0m, in \u001b[0;36mPopen.__init__\u001b[1;34m(self, args, bufsize, executable, stdin, stdout, stderr, preexec_fn, close_fds, shell, cwd, env, universal_newlines, startupinfo, creationflags, restore_signals, start_new_session, pass_fds, user, group, extra_groups, encoding, errors, text, umask)\u001b[0m\n\u001b[0;32m    943\u001b[0m         \u001b[39mif\u001b[39;00m \u001b[39mself\u001b[39m\u001b[39m.\u001b[39mtext_mode:\n\u001b[0;32m    944\u001b[0m             \u001b[39mself\u001b[39m\u001b[39m.\u001b[39mstderr \u001b[39m=\u001b[39m io\u001b[39m.\u001b[39mTextIOWrapper(\u001b[39mself\u001b[39m\u001b[39m.\u001b[39mstderr,\n\u001b[0;32m    945\u001b[0m                     encoding\u001b[39m=\u001b[39mencoding, errors\u001b[39m=\u001b[39merrors)\n\u001b[1;32m--> 947\u001b[0m     \u001b[39mself\u001b[39;49m\u001b[39m.\u001b[39;49m_execute_child(args, executable, preexec_fn, close_fds,\n\u001b[0;32m    948\u001b[0m                         pass_fds, cwd, env,\n\u001b[0;32m    949\u001b[0m                         startupinfo, creationflags, shell,\n\u001b[0;32m    950\u001b[0m                         p2cread, p2cwrite,\n\u001b[0;32m    951\u001b[0m                         c2pread, c2pwrite,\n\u001b[0;32m    952\u001b[0m                         errread, errwrite,\n\u001b[0;32m    953\u001b[0m                         restore_signals,\n\u001b[0;32m    954\u001b[0m                         gid, gids, uid, umask,\n\u001b[0;32m    955\u001b[0m                         start_new_session)\n\u001b[0;32m    956\u001b[0m \u001b[39mexcept\u001b[39;00m:\n\u001b[0;32m    957\u001b[0m     \u001b[39m# Cleanup if the child failed starting.\u001b[39;00m\n\u001b[0;32m    958\u001b[0m     \u001b[39mfor\u001b[39;00m f \u001b[39min\u001b[39;00m \u001b[39mfilter\u001b[39m(\u001b[39mNone\u001b[39;00m, (\u001b[39mself\u001b[39m\u001b[39m.\u001b[39mstdin, \u001b[39mself\u001b[39m\u001b[39m.\u001b[39mstdout, \u001b[39mself\u001b[39m\u001b[39m.\u001b[39mstderr)):\n",
      "File \u001b[1;32mc:\\Users\\jaivi\\AppData\\Local\\Programs\\Python\\Python39\\lib\\subprocess.py:1416\u001b[0m, in \u001b[0;36mPopen._execute_child\u001b[1;34m(self, args, executable, preexec_fn, close_fds, pass_fds, cwd, env, startupinfo, creationflags, shell, p2cread, p2cwrite, c2pread, c2pwrite, errread, errwrite, unused_restore_signals, unused_gid, unused_gids, unused_uid, unused_umask, unused_start_new_session)\u001b[0m\n\u001b[0;32m   1414\u001b[0m \u001b[39m# Start the process\u001b[39;00m\n\u001b[0;32m   1415\u001b[0m \u001b[39mtry\u001b[39;00m:\n\u001b[1;32m-> 1416\u001b[0m     hp, ht, pid, tid \u001b[39m=\u001b[39m _winapi\u001b[39m.\u001b[39;49mCreateProcess(executable, args,\n\u001b[0;32m   1417\u001b[0m                              \u001b[39m# no special security\u001b[39;49;00m\n\u001b[0;32m   1418\u001b[0m                              \u001b[39mNone\u001b[39;49;00m, \u001b[39mNone\u001b[39;49;00m,\n\u001b[0;32m   1419\u001b[0m                              \u001b[39mint\u001b[39;49m(\u001b[39mnot\u001b[39;49;00m close_fds),\n\u001b[0;32m   1420\u001b[0m                              creationflags,\n\u001b[0;32m   1421\u001b[0m                              env,\n\u001b[0;32m   1422\u001b[0m                              cwd,\n\u001b[0;32m   1423\u001b[0m                              startupinfo)\n\u001b[0;32m   1424\u001b[0m \u001b[39mfinally\u001b[39;00m:\n\u001b[0;32m   1425\u001b[0m     \u001b[39m# Child is launched. Close the parent's copy of those pipe\u001b[39;00m\n\u001b[0;32m   1426\u001b[0m     \u001b[39m# handles that only the child should have open.  You need\u001b[39;00m\n\u001b[1;32m   (...)\u001b[0m\n\u001b[0;32m   1429\u001b[0m     \u001b[39m# pipe will not close when the child process exits and the\u001b[39;00m\n\u001b[0;32m   1430\u001b[0m     \u001b[39m# ReadFile will hang.\u001b[39;00m\n\u001b[0;32m   1431\u001b[0m     \u001b[39mself\u001b[39m\u001b[39m.\u001b[39m_close_pipe_fds(p2cread, p2cwrite,\n\u001b[0;32m   1432\u001b[0m                          c2pread, c2pwrite,\n\u001b[0;32m   1433\u001b[0m                          errread, errwrite)\n",
      "\u001b[1;31mFileNotFoundError\u001b[0m: [WinError 2] The system cannot find the file specified"
     ]
    }
   ],
   "source": [
    "import subprocess\n",
    "\n",
    "# Run a command that prints \"Hello, world!\" to stdout\n",
    "cmd1 = [\"echo\", \"Hello, world!\"]\n",
    "\n",
    "# Run a command that counts the number of lines in its input\n",
    "cmd2 = [\"wc\", \"-l\"]\n",
    "\n",
    "# Use subprocess to run cmd1 and pipe its output to cmd2\n",
    "p1 = subprocess.Popen(cmd1, stdout=subprocess.PIPE)\n",
    "p2 = subprocess.Popen(cmd2, stdin=p1.stdout, stdout=subprocess.PIPE)\n",
    "\n",
    "# Get the output of the piped commands\n",
    "output = p2.communicate()[0]\n",
    "\n",
    "# Print the output\n",
    "print(output.decode())\n"
   ]
  }
 ],
 "metadata": {
  "kernelspec": {
   "display_name": "Python 3",
   "language": "python",
   "name": "python3"
  },
  "language_info": {
   "codemirror_mode": {
    "name": "ipython",
    "version": 3
   },
   "file_extension": ".py",
   "mimetype": "text/x-python",
   "name": "python",
   "nbconvert_exporter": "python",
   "pygments_lexer": "ipython3",
   "version": "3.9.0"
  },
  "orig_nbformat": 4
 },
 "nbformat": 4,
 "nbformat_minor": 2
}
