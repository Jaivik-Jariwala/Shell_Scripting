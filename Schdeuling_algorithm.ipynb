{
 "cells": [
  {
   "cell_type": "markdown",
   "metadata": {},
   "source": []
  },
  {
   "cell_type": "markdown",
   "metadata": {},
   "source": []
  },
  {
   "cell_type": "code",
   "execution_count": 32,
   "metadata": {},
   "outputs": [],
   "source": [
    "# Define a Process class to represent each process\n",
    "class Process:\n",
    "    def __init__(self, pid, burst_time, arrival_time):\n",
    "        self.pid = pid\n",
    "        self.burst_time = burst_time\n",
    "        self.arrival_time = arrival_time\n",
    "        self.waiting_time=0"
   ]
  },
  {
   "cell_type": "code",
   "execution_count": 33,
   "metadata": {},
   "outputs": [],
   "source": [
    "processes = [Process(1, 10, 0), Process(2, 5, 1), Process(3, 8, 2), Process(4, 3, 3)]"
   ]
  },
  {
   "attachments": {},
   "cell_type": "markdown",
   "metadata": {},
   "source": [
    "**First Come First Serve**"
   ]
  },
  {
   "attachments": {},
   "cell_type": "markdown",
   "metadata": {},
   "source": [
    "The First Come First Serve (FCFS) algorithm is a CPU scheduling algorithm that schedules processes in the order they arrive in the ready queue. The algorithm is non-preemptive, meaning that once a process starts executing, it will run until completion, or until it enters a blocked or waiting state.\n",
    "\n",
    "To calculate the various metrics associated with the FCFS algorithm, we need to know the arrival time and burst time of each process. The arrival time is the time at which the process enters the ready queue, while the burst time is the amount of time required by the process to complete its execution.\n",
    "\n",
    "Let's consider an example to demonstrate how to calculate the various metrics associated with the FCFS algorithm. Suppose we have three processes, P0, P1, P2, P3 and P4, with the following arrival time and burst time:"
   ]
  },
  {
   "cell_type": "markdown",
   "metadata": {},
   "source": []
  },
  {
   "attachments": {},
   "cell_type": "markdown",
   "metadata": {},
   "source": [
    "To calculate the waiting time for each process, we can use the following formula:\n",
    "\n",
    "Waiting Time = Turnaround Time - Burst Time \n",
    "\n",
    "To calculate the turnaround time for each process, we can use the following formula:\n",
    "\n",
    "Turnaround Time = Completion Time - Arrival Time\n",
    "\n",
    "To calculate the completion time for each process, we can use the following formula:\n",
    "\n",
    "Completion Time = Arrival Time + Burst Time + Waiting Time\n",
    "\n",
    "Using the above formulas, we can calculate the waiting time, turnaround time, and completion time for each process as follows:"
   ]
  },
  {
   "cell_type": "markdown",
   "metadata": {},
   "source": []
  },
  {
   "attachments": {},
   "cell_type": "markdown",
   "metadata": {},
   "source": [
    "To calculate the average waiting time and average turnaround time for the FCFS algorithm, we can use the following formulas:\n",
    "\n",
    "Average Waiting Time = (Sum of Waiting Times) / (Number of Processes)\n",
    "\n",
    "Average Turnaround Time = (Sum of Turnaround Times) / (Number of Processes)\n",
    "\n",
    "Using the above formulas, we can calculate the average waiting time and average turnaround time for the above example as follows:\n",
    "\n",
    "Average Waiting Time = ( 0 + 3 + 3 + 0 + 6) / 5 = 2.4\n",
    "\n",
    "Average Turnaround Time = ( 6 + 5 + 4 + 7 + 11 ) / 5 = 6.6 \n",
    "\n",
    "Therefore, in this example, the average waiting time for the FCFS algorithm is 2.67, and the average turnaround time is 5.67."
   ]
  },
  {
   "attachments": {},
   "cell_type": "markdown",
   "metadata": {},
   "source": [
    "*implementation code*"
   ]
  },
  {
   "cell_type": "code",
   "execution_count": 34,
   "metadata": {},
   "outputs": [],
   "source": [
    "def fcfs(processes):\n",
    "    #initialize the waiting time and turn around time\n",
    "    time=0\n",
    "    waiting_time=0\n",
    "    completion_time=0\n",
    "    turn_around_time=0\n",
    "\n",
    "    #execute the processes one by one in fcfs\n",
    "    for p in processes:\n",
    "        #update waiting time for cuttent process\n",
    "        waiting_time += time\n",
    "        #execute the current process\n",
    "        print(\"executing process\", p.pid, \"with burst time\" , p.burst_time , \"with arrival time\", p.pid)\n",
    "        time += p.burst_time\n",
    "        #calulate turnaround time for current processs\n",
    "        turn_around_time += time\n",
    "        #calculate completion time for current process\n",
    "        completion_time += time\n",
    "        #print the current process details  \n",
    "        print(\"waiting time\", waiting_time)\n",
    "        print(\"turn around time\", turn_around_time)\n",
    "        print(\"completion time\", completion_time)\n",
    "\n",
    "    #print the total burst and total average time\n",
    "    total_waiting_time = waiting_time\n",
    "    average_waiting_time = total_waiting_time / len(processes)\n",
    "    print(\"total waiting time\", total_waiting_time)\n",
    "    print(\"avarage waiting time\", average_waiting_time)\n",
    "    "
   ]
  },
  {
   "cell_type": "code",
   "execution_count": 35,
   "metadata": {},
   "outputs": [
    {
     "name": "stdout",
     "output_type": "stream",
     "text": [
      "executing process 1 with burst time 10 with arrival time 1\n",
      "waiting time 0\n",
      "turn around time 10\n",
      "completion time 10\n",
      "executing process 2 with burst time 5 with arrival time 2\n",
      "waiting time 10\n",
      "turn around time 25\n",
      "completion time 25\n",
      "executing process 3 with burst time 8 with arrival time 3\n",
      "waiting time 25\n",
      "turn around time 48\n",
      "completion time 48\n",
      "executing process 4 with burst time 3 with arrival time 4\n",
      "waiting time 48\n",
      "turn around time 74\n",
      "completion time 74\n",
      "total waiting time 48\n",
      "avarage waiting time 12.0\n"
     ]
    }
   ],
   "source": [
    "fcfs(processes)"
   ]
  },
  {
   "attachments": {},
   "cell_type": "markdown",
   "metadata": {},
   "source": [
    "**Shortest Job  First**"
   ]
  },
  {
   "cell_type": "markdown",
   "metadata": {},
   "source": []
  },
  {
   "cell_type": "markdown",
   "metadata": {},
   "source": []
  },
  {
   "cell_type": "markdown",
   "metadata": {},
   "source": []
  },
  {
   "attachments": {},
   "cell_type": "markdown",
   "metadata": {},
   "source": [
    "*Implmentation Code*"
   ]
  },
  {
   "cell_type": "code",
   "execution_count": 38,
   "metadata": {},
   "outputs": [],
   "source": [
    "# Define a function to execute the processes using SJF scheduling algorithm\n",
    "def sjf(processes):\n",
    "    # Sort the processes by their burst time in non-decreasing order\n",
    "    processes.sort(key=lambda p: p.burst_time)\n",
    "    \n",
    "    # Initialize the time and waiting time variables\n",
    "    time = 0\n",
    "    waiting_time = 0\n",
    "    completion_time = 0 \n",
    "    turn_around_time = 0\n",
    "    \n",
    "    # Execute the processes one by one in SJF order\n",
    "    for p in processes:\n",
    "        #update waiting time for cuttent process\n",
    "        waiting_time += time\n",
    "        #execute the current process\n",
    "        print(\"executing process\", p.pid, \"with burst time\" , p.burst_time , \"with arrival time\", p.pid)\n",
    "        time += p.burst_time\n",
    "        #calulate turnaround time for current processs\n",
    "        turn_around_time += time\n",
    "        #calculate completion time for current process\n",
    "        completion_time += time\n",
    "        #print the current process details  \n",
    "        print(\"waiting time\", waiting_time)\n",
    "        print(\"turn around time\", turn_around_time)\n",
    "        print(\"completion time\", completion_time)\n",
    "    \n",
    "    # Print the total waiting time and average waiting time\n",
    "    total_waiting_time = waiting_time\n",
    "    average_waiting_time = total_waiting_time / len(processes)\n",
    "    print(\"Total waiting time:\", total_waiting_time)\n",
    "    print(\"Average waiting time:\", average_waiting_time)\n",
    "\n"
   ]
  },
  {
   "cell_type": "code",
   "execution_count": 39,
   "metadata": {},
   "outputs": [
    {
     "name": "stdout",
     "output_type": "stream",
     "text": [
      "executing process 4 with burst time 3 with arrival time 4\n",
      "waiting time 0\n",
      "turn around time 3\n",
      "completion time 3\n",
      "executing process 2 with burst time 5 with arrival time 2\n",
      "waiting time 3\n",
      "turn around time 11\n",
      "completion time 11\n",
      "executing process 3 with burst time 8 with arrival time 3\n",
      "waiting time 11\n",
      "turn around time 27\n",
      "completion time 27\n",
      "executing process 1 with burst time 10 with arrival time 1\n",
      "waiting time 27\n",
      "turn around time 53\n",
      "completion time 53\n",
      "Total waiting time: 27\n",
      "Average waiting time: 6.75\n"
     ]
    }
   ],
   "source": [
    "sjf(processes)"
   ]
  },
  {
   "attachments": {},
   "cell_type": "markdown",
   "metadata": {},
   "source": [
    "**Round Robin**"
   ]
  },
  {
   "cell_type": "markdown",
   "metadata": {},
   "source": []
  },
  {
   "cell_type": "markdown",
   "metadata": {},
   "source": []
  },
  {
   "cell_type": "markdown",
   "metadata": {},
   "source": []
  },
  {
   "cell_type": "code",
   "execution_count": 46,
   "metadata": {},
   "outputs": [],
   "source": [
    "# Define a function to execute the processes using Round Robin scheduling algorithm\n",
    "def round_robin(processes, quantum):\n",
    "    # Initialize the waiting time, turnaround time, completion time, and time variables\n",
    "    waiting_time = [0] * len(processes)\n",
    "    turnaround_time = [0] * len(processes)\n",
    "    completion_time = [0] * len(processes)\n",
    "    time = 0\n",
    "    \n",
    "    # Create a copy of the processes list to keep track of the remaining burst time of each process\n",
    "    remaining_burst_time = [p.burst_time for p in processes]\n",
    "    \n",
    "    # Execute the processes one by one in Round Robin order\n",
    "    while True:\n",
    "        all_processes_completed = True\n",
    "        for i, p in enumerate(processes):\n",
    "            if remaining_burst_time[i] > 0:\n",
    "                # Calculate the time slice for the current process\n",
    "                time_slice = min(remaining_burst_time[i], quantum)\n",
    "                \n",
    "                # Execute the current process for the time slice\n",
    "                print(\"Executing process\", p.pid, \"for\", time_slice, \"units of time\")\n",
    "                remaining_burst_time[i] -= time_slice\n",
    "                time += time_slice\n",
    "                \n",
    "                # Check if the current process has completed\n",
    "                if remaining_burst_time[i] == 0:\n",
    "                    # Calculate turnaround time and completion time for the current process\n",
    "                    turnaround_time[i] = time - p.arrival_time\n",
    "                    completion_time[i] = time\n",
    "                    \n",
    "                    # Print the waiting time, turnaround time, and completion time for the current process\n",
    "                    print(\"Process\", p.pid, \"completed at time\", completion_time[i])\n",
    "                    print(\"Waiting time for process\", p.pid, \"is\", waiting_time[i])\n",
    "                    print(\"Turnaround time for process\", p.pid, \"is\", turnaround_time[i])\n",
    "                    print(\"Completion time for process\", p.pid, \"is\", completion_time[i])\n",
    "                else:\n",
    "                    # Update the waiting time for the current process\n",
    "                    waiting_time[i] = time - p.arrival_time\n",
    "                    \n",
    "                all_processes_completed = False\n",
    "        \n",
    "        # Check if all processes have completed\n",
    "        if all_processes_completed:\n",
    "            break\n",
    "    \n",
    "    # Calculate the total waiting time and average waiting time for all processes\n",
    "    total_waiting_time = sum(waiting_time)\n",
    "    average_waiting_time = total_waiting_time / len(processes)\n",
    "    \n",
    "    # Print the total and average waiting time\n",
    "    print(\"Total waiting time:\", total_waiting_time)\n",
    "    print(\"Average waiting time:\", average_waiting_time)\n",
    "\n"
   ]
  },
  {
   "cell_type": "code",
   "execution_count": 47,
   "metadata": {},
   "outputs": [
    {
     "name": "stdout",
     "output_type": "stream",
     "text": [
      "Executing process 4 for 2 units of time\n",
      "Executing process 2 for 2 units of time\n",
      "Executing process 3 for 2 units of time\n",
      "Executing process 1 for 2 units of time\n",
      "Executing process 4 for 1 units of time\n",
      "Process 4 completed at time 9\n",
      "Waiting time for process 4 is -1\n",
      "Turnaround time for process 4 is 6\n",
      "Completion time for process 4 is 9\n",
      "Executing process 2 for 2 units of time\n",
      "Executing process 3 for 2 units of time\n",
      "Executing process 1 for 2 units of time\n",
      "Executing process 2 for 1 units of time\n",
      "Process 2 completed at time 16\n",
      "Waiting time for process 2 is 10\n",
      "Turnaround time for process 2 is 15\n",
      "Completion time for process 2 is 16\n",
      "Executing process 3 for 2 units of time\n",
      "Executing process 1 for 2 units of time\n",
      "Executing process 3 for 2 units of time\n",
      "Process 3 completed at time 22\n",
      "Waiting time for process 3 is 16\n",
      "Turnaround time for process 3 is 20\n",
      "Completion time for process 3 is 22\n",
      "Executing process 1 for 2 units of time\n",
      "Executing process 1 for 2 units of time\n",
      "Process 1 completed at time 26\n",
      "Waiting time for process 1 is 24\n",
      "Turnaround time for process 1 is 26\n",
      "Completion time for process 1 is 26\n",
      "Total waiting time: 49\n",
      "Average waiting time: 12.25\n"
     ]
    }
   ],
   "source": [
    "quantum = 2 \n",
    "round_robin(processes, quantum)"
   ]
  },
  {
   "attachments": {},
   "cell_type": "markdown",
   "metadata": {},
   "source": [
    "**Shortest Remaining time First**"
   ]
  },
  {
   "cell_type": "code",
   "execution_count": 48,
   "metadata": {},
   "outputs": [],
   "source": [
    "def srtf(processes):\n",
    "    # Initialize the waiting time, turnaround time, completion time, and time variables\n",
    "    waiting_time = [0] * len(processes)\n",
    "    turnaround_time = [0] * len(processes)\n",
    "    completion_time = [0] * len(processes)\n",
    "    time = 0\n",
    "    \n",
    "    # Create a copy of the processes list to keep track of the remaining burst time of each process\n",
    "    remaining_burst_time = [p.burst_time for p in processes]\n",
    "    \n",
    "    # Execute the processes one by one in Shortest Remaining Time First order\n",
    "    while True:\n",
    "        # Find the process with the shortest remaining burst time\n",
    "        shortest_time = float('inf')\n",
    "        shortest_index = None\n",
    "        for i, p in enumerate(processes):\n",
    "            if remaining_burst_time[i] > 0 and remaining_burst_time[i] < shortest_time:\n",
    "                shortest_time = remaining_burst_time[i]\n",
    "                shortest_index = i\n",
    "        \n",
    "        if shortest_index is None:\n",
    "            # All processes completed\n",
    "            break\n",
    "        \n",
    "        # Execute the process with the shortest remaining burst time\n",
    "        p = processes[shortest_index]\n",
    "        print(\"Executing process\", p.pid, \"for\", remaining_burst_time[shortest_index], \"units of time\")\n",
    "        remaining_burst_time[shortest_index] = 0\n",
    "        time += remaining_burst_time[shortest_index]\n",
    "        \n",
    "        # Calculate turnaround time and completion time for the current process\n",
    "        turnaround_time[shortest_index] = time - p.arrival_time\n",
    "        completion_time[shortest_index] = time\n",
    "        \n",
    "        # Print the waiting time, turnaround time, and completion time for the current process\n",
    "        print(\"Process\", p.pid, \"completed at time\", completion_time[shortest_index])\n",
    "        print(\"Waiting time for process\", p.pid, \"is\", waiting_time[shortest_index])\n",
    "        print(\"Turnaround time for process\", p.pid, \"is\", turnaround_time[shortest_index])\n",
    "        print(\"Completion time for process\", p.pid, \"is\", completion_time[shortest_index])\n",
    "        \n",
    "        # Update the waiting time for all remaining processes\n",
    "        for i, p in enumerate(processes):\n",
    "            if i != shortest_index and remaining_burst_time[i] > 0:\n",
    "                waiting_time[i] += remaining_burst_time[shortest_index]\n",
    "    \n",
    "    # Calculate the total waiting time and average waiting time for all processes\n",
    "    total_waiting_time = sum(waiting_time)\n",
    "    average_waiting_time = total_waiting_time / len(processes)\n",
    "    \n",
    "    # Print the total and average waiting time\n",
    "    print(\"Total waiting time:\", total_waiting_time)\n",
    "    print(\"Average waiting time:\", average_waiting_time)\n"
   ]
  },
  {
   "cell_type": "code",
   "execution_count": 49,
   "metadata": {},
   "outputs": [
    {
     "name": "stdout",
     "output_type": "stream",
     "text": [
      "Executing process 4 for 3 units of time\n",
      "Process 4 completed at time 0\n",
      "Waiting time for process 4 is 0\n",
      "Turnaround time for process 4 is -3\n",
      "Completion time for process 4 is 0\n",
      "Executing process 2 for 5 units of time\n",
      "Process 2 completed at time 0\n",
      "Waiting time for process 2 is 0\n",
      "Turnaround time for process 2 is -1\n",
      "Completion time for process 2 is 0\n",
      "Executing process 3 for 8 units of time\n",
      "Process 3 completed at time 0\n",
      "Waiting time for process 3 is 0\n",
      "Turnaround time for process 3 is -2\n",
      "Completion time for process 3 is 0\n",
      "Executing process 1 for 10 units of time\n",
      "Process 1 completed at time 0\n",
      "Waiting time for process 1 is 0\n",
      "Turnaround time for process 1 is 0\n",
      "Completion time for process 1 is 0\n",
      "Total waiting time: 0\n",
      "Average waiting time: 0.0\n"
     ]
    }
   ],
   "source": [
    "srtf(processes)"
   ]
  },
  {
   "attachments": {},
   "cell_type": "markdown",
   "metadata": {},
   "source": [
    "**Non - premptive priority**"
   ]
  },
  {
   "cell_type": "code",
   "execution_count": 56,
   "metadata": {},
   "outputs": [
    {
     "name": "stdout",
     "output_type": "stream",
     "text": [
      "Average waiting time: 12.4\n",
      "Average turnaround time: 32.4\n"
     ]
    }
   ],
   "source": [
    "class Process:\n",
    "    def __init__(self, name, arrival_time, burst_time, priority):\n",
    "        self.name = name\n",
    "        self.arrival_time = arrival_time\n",
    "        self.burst_time = burst_time\n",
    "        self.priority = priority\n",
    "\n",
    "def priority_scheduling(processes):\n",
    "    # Sort the processes by priority\n",
    "    processes.sort(key=lambda p: p.priority)\n",
    "\n",
    "    # Set the start time for the first process\n",
    "    start_time = processes[0].arrival_time\n",
    "    waiting_time = 0\n",
    "    turnaround_time = 0\n",
    "\n",
    "    # Loop through each process and calculate waiting and turnaround times\n",
    "    for process in processes:\n",
    "        # If the process arrives after the previous one has finished,\n",
    "        # update the start time to the arrival time of the current process\n",
    "        if process.arrival_time > start_time:\n",
    "            start_time = process.arrival_time\n",
    "\n",
    "        # Calculate waiting time as the difference between start time and arrival time\n",
    "        waiting_time += start_time - process.arrival_time\n",
    "\n",
    "        # Calculate turnaround time as the sum of burst time and waiting time\n",
    "        turnaround_time += process.burst_time + waiting_time\n",
    "\n",
    "        # Update the start time to the end of the current process\n",
    "        start_time += process.burst_time\n",
    "\n",
    "    # Calculate the average waiting and turnaround times\n",
    "    avg_waiting_time = waiting_time / len(processes)\n",
    "    avg_turnaround_time = turnaround_time / len(processes)\n",
    "\n",
    "    # Return the results\n",
    "    return avg_waiting_time, avg_turnaround_time\n",
    "\n",
    "# Example usage\n",
    "processes = [\n",
    "    Process(\"P1\", 0, 6, 2),\n",
    "    Process(\"P2\", 1, 8, 1),\n",
    "    Process(\"P3\", 2, 7, 3),\n",
    "    Process(\"P4\", 3, 3, 4),\n",
    "    Process(\"P5\", 4, 4, 5),\n",
    "]\n",
    "\n",
    "avg_waiting_time, avg_turnaround_time = priority_scheduling(processes)\n",
    "\n",
    "print(\"Average waiting time:\", avg_waiting_time)\n",
    "print(\"Average turnaround time:\", avg_turnaround_time)\n"
   ]
  },
  {
   "cell_type": "code",
   "execution_count": 53,
   "metadata": {},
   "outputs": [
    {
     "ename": "AttributeError",
     "evalue": "'Process' object has no attribute 'priority'",
     "output_type": "error",
     "traceback": [
      "\u001b[1;31m---------------------------------------------------------------------------\u001b[0m",
      "\u001b[1;31mAttributeError\u001b[0m                            Traceback (most recent call last)",
      "Cell \u001b[1;32mIn[53], line 1\u001b[0m\n\u001b[1;32m----> 1\u001b[0m priority_schdeuling(processes)\n",
      "Cell \u001b[1;32mIn[50], line 3\u001b[0m, in \u001b[0;36mpriority_schdeuling\u001b[1;34m(processes)\u001b[0m\n\u001b[0;32m      1\u001b[0m \u001b[39mdef\u001b[39;00m \u001b[39mpriority_schdeuling\u001b[39m(processes):\n\u001b[0;32m      2\u001b[0m     \u001b[39m#sort the proecess by priority\u001b[39;00m\n\u001b[1;32m----> 3\u001b[0m     processes\u001b[39m.\u001b[39;49msort(key\u001b[39m=\u001b[39;49m\u001b[39mlambda\u001b[39;49;00m p: p\u001b[39m.\u001b[39;49mpriority)\n\u001b[0;32m      5\u001b[0m     \u001b[39m#set the start time for first process\u001b[39;00m\n\u001b[0;32m      6\u001b[0m     start_time \u001b[39m=\u001b[39m processes[\u001b[39m0\u001b[39m]\u001b[39m.\u001b[39marrival_time\n",
      "Cell \u001b[1;32mIn[50], line 3\u001b[0m, in \u001b[0;36mpriority_schdeuling.<locals>.<lambda>\u001b[1;34m(p)\u001b[0m\n\u001b[0;32m      1\u001b[0m \u001b[39mdef\u001b[39;00m \u001b[39mpriority_schdeuling\u001b[39m(processes):\n\u001b[0;32m      2\u001b[0m     \u001b[39m#sort the proecess by priority\u001b[39;00m\n\u001b[1;32m----> 3\u001b[0m     processes\u001b[39m.\u001b[39msort(key\u001b[39m=\u001b[39m\u001b[39mlambda\u001b[39;00m p: p\u001b[39m.\u001b[39;49mpriority)\n\u001b[0;32m      5\u001b[0m     \u001b[39m#set the start time for first process\u001b[39;00m\n\u001b[0;32m      6\u001b[0m     start_time \u001b[39m=\u001b[39m processes[\u001b[39m0\u001b[39m]\u001b[39m.\u001b[39marrival_time\n",
      "\u001b[1;31mAttributeError\u001b[0m: 'Process' object has no attribute 'priority'"
     ]
    }
   ],
   "source": []
  },
  {
   "attachments": {},
   "cell_type": "markdown",
   "metadata": {},
   "source": [
    "**pp**"
   ]
  },
  {
   "cell_type": "code",
   "execution_count": 55,
   "metadata": {},
   "outputs": [
    {
     "name": "stdout",
     "output_type": "stream",
     "text": [
      "Average waiting time = 4.4\n",
      "Average turnaround time = 8.2\n",
      "Average response time = 7.2\n"
     ]
    }
   ],
   "source": [
    "class Process:\n",
    "    def __init__(self, pid, arrival_time, burst_time, priority):\n",
    "        self.pid = pid\n",
    "        self.arrival_time = arrival_time\n",
    "        self.burst_time = burst_time\n",
    "        self.priority = priority\n",
    "        self.remaining_time = burst_time\n",
    "        \n",
    "    def __lt__(self, other):\n",
    "        return self.priority < other.priority\n",
    "        \n",
    "def priority_scheduling(processes):\n",
    "    time = 0\n",
    "    n = len(processes)\n",
    "    completed = 0\n",
    "    waiting_time = 0\n",
    "    turnaround_time = 0\n",
    "    response_time = [0] * n\n",
    "    remaining_time = [p.burst_time for p in processes]\n",
    "    \n",
    "    while completed != n:\n",
    "        highest_priority_process = None\n",
    "        for i in range(n):\n",
    "            if processes[i].arrival_time <= time and remaining_time[i] > 0:\n",
    "                if highest_priority_process is None or processes[i] < processes[highest_priority_process]:\n",
    "                    highest_priority_process = i\n",
    "        \n",
    "        if highest_priority_process is None:\n",
    "            time += 1\n",
    "            continue\n",
    "        \n",
    "        response_time[highest_priority_process] = time - processes[highest_priority_process].arrival_time\n",
    "        \n",
    "        remaining_time[highest_priority_process] -= 1\n",
    "        time += 1\n",
    "        \n",
    "        if remaining_time[highest_priority_process] == 0:\n",
    "            completed += 1\n",
    "            waiting_time += time - processes[highest_priority_process].arrival_time - processes[highest_priority_process].burst_time\n",
    "            turnaround_time += time - processes[highest_priority_process].arrival_time\n",
    "    \n",
    "    print(\"Average waiting time =\", waiting_time / n)\n",
    "    print(\"Average turnaround time =\", turnaround_time / n)\n",
    "    print(\"Average response time =\", sum(response_time) / n)\n",
    "    \n",
    "    \n",
    "if __name__ == '__main__':\n",
    "    processes = [\n",
    "        Process(1, 0, 7, 2),\n",
    "        Process(2, 2, 4, 3),\n",
    "        Process(3, 4, 1, 1),\n",
    "        Process(4, 5, 4, 4),\n",
    "        Process(5, 6, 3, 2),\n",
    "    ]\n",
    "    priority_scheduling(processes)\n"
   ]
  }
 ],
 "metadata": {
  "kernelspec": {
   "display_name": "Python 3",
   "language": "python",
   "name": "python3"
  },
  "language_info": {
   "codemirror_mode": {
    "name": "ipython",
    "version": 3
   },
   "file_extension": ".py",
   "mimetype": "text/x-python",
   "name": "python",
   "nbconvert_exporter": "python",
   "pygments_lexer": "ipython3",
   "version": "3.9.0"
  },
  "orig_nbformat": 4
 },
 "nbformat": 4,
 "nbformat_minor": 2
}
