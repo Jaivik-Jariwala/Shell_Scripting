{
 "cells": [
  {
   "cell_type": "code",
   "execution_count": null,
   "metadata": {},
   "outputs": [],
   "source": []
  },
  {
   "cell_type": "code",
   "execution_count": 1,
   "metadata": {},
   "outputs": [],
   "source": [
    "def fifo_page_replacement(pages, frames):\n",
    "    # initialize page fault counter\n",
    "    page_faults = 0\n",
    "    # initialize list of frames\n",
    "    frame_list = []\n",
    "    # iterate over pages\n",
    "    for page in pages:\n",
    "        # if page is not in frames\n",
    "        if page not in frame_list:\n",
    "            # if there is still space in frames\n",
    "            if len(frame_list) < frames:\n",
    "                frame_list.append(page)\n",
    "            # if there is no space in frames\n",
    "            else:\n",
    "                # remove the oldest page in frames\n",
    "                frame_list.pop(0)\n",
    "                # add the new page to frames\n",
    "                frame_list.append(page)\n",
    "            # increment page fault counter\n",
    "            page_faults += 1\n",
    "    return page_faults\n"
   ]
  },
  {
   "cell_type": "code",
   "execution_count": 2,
   "metadata": {},
   "outputs": [
    {
     "name": "stdout",
     "output_type": "stream",
     "text": [
      "Number of page faults: 10\n"
     ]
    }
   ],
   "source": [
    "pages = [1, 2, 3, 4, 5, 6, 7, 8, 9, 10]\n",
    "frames = 3\n",
    "page_faults = fifo_page_replacement(pages, frames)\n",
    "print(\"Number of page faults:\", page_faults)\n"
   ]
  },
  {
   "cell_type": "code",
   "execution_count": 3,
   "metadata": {},
   "outputs": [],
   "source": [
    "def optimal_page_replacement(pages, frames):\n",
    "    # initialize page fault counter\n",
    "    page_faults = 0\n",
    "    # initialize list of frames\n",
    "    frame_list = []\n",
    "    # iterate over pages\n",
    "    for page in pages:\n",
    "        # if page is not in frames\n",
    "        if page not in frame_list:\n",
    "            # if there is still space in frames\n",
    "            if len(frame_list) < frames:\n",
    "                frame_list.append(page)\n",
    "            # if there is no space in frames\n",
    "            else:\n",
    "                # initialize dictionary of indices\n",
    "                indices = {}\n",
    "                # iterate over frames\n",
    "                for f in frame_list:\n",
    "                    # if page is not in the remaining pages\n",
    "                    if f not in pages[pages.index(page):]:\n",
    "                        # store the index\n",
    "                        indices[f] = 1000000\n",
    "                    # if page is in the remaining pages\n",
    "                    else:\n",
    "                        # store the index of its next occurrence\n",
    "                        indices[f] = pages.index(f, pages.index(page))\n",
    "                # remove the frame with the maximum index\n",
    "                frame_list.remove(max(indices, key=indices.get))\n",
    "                # add the new page to frames\n",
    "                frame_list.append(page)\n",
    "            # increment page fault counter\n",
    "            page_faults += 1\n",
    "    return page_faults\n"
   ]
  },
  {
   "cell_type": "code",
   "execution_count": 4,
   "metadata": {},
   "outputs": [
    {
     "name": "stdout",
     "output_type": "stream",
     "text": [
      "Number of page faults: 10\n"
     ]
    }
   ],
   "source": [
    "pages = [1, 2, 3, 4, 5, 6, 7, 8, 9, 10]\n",
    "frames = 3\n",
    "page_faults = optimal_page_replacement(pages, frames)\n",
    "print(\"Number of page faults:\", page_faults)\n"
   ]
  },
  {
   "cell_type": "code",
   "execution_count": 5,
   "metadata": {},
   "outputs": [],
   "source": [
    "from collections import deque\n",
    "\n",
    "def lru_page_replacement(pages, frames):\n",
    "    # initialize page fault counter\n",
    "    page_faults = 0\n",
    "    # initialize list of frames\n",
    "    frame_list = []\n",
    "    # initialize queue to keep track of the least recently used pages\n",
    "    page_queue = deque()\n",
    "    # iterate over pages\n",
    "    for page in pages:\n",
    "        # if page is not in frames\n",
    "        if page not in frame_list:\n",
    "            # if there is still space in frames\n",
    "            if len(frame_list) < frames:\n",
    "                frame_list.append(page)\n",
    "            # if there is no space in frames\n",
    "            else:\n",
    "                # remove the least recently used page from frames\n",
    "                lru_page = page_queue.popleft()\n",
    "                frame_list.remove(lru_page)\n",
    "                # add the new page to frames\n",
    "                frame_list.append(page)\n",
    "            # add the new page to the least recently used queue\n",
    "            page_queue.append(page)\n",
    "            # increment page fault counter\n",
    "            page_faults += 1\n",
    "        # if page is already in frames\n",
    "        else:\n",
    "            # remove page from the least recently used queue\n",
    "            page_queue.remove(page)\n",
    "            # add page to the end of the least recently used queue\n",
    "            page_queue.append(page)\n",
    "    return page_faults\n"
   ]
  },
  {
   "cell_type": "code",
   "execution_count": 6,
   "metadata": {},
   "outputs": [
    {
     "name": "stdout",
     "output_type": "stream",
     "text": [
      "Number of page faults: 10\n"
     ]
    }
   ],
   "source": [
    "pages = [1, 2, 3, 4, 5, 6, 7, 8, 9, 10]\n",
    "frames = 3\n",
    "page_faults = lru_page_replacement(pages, frames)\n",
    "print(\"Number of page faults:\", page_faults)"
   ]
  },
  {
   "cell_type": "code",
   "execution_count": 7,
   "metadata": {},
   "outputs": [],
   "source": [
    "from collections import defaultdict\n",
    "\n",
    "def lfu_page_replacement(pages, frames):\n",
    "    # initialize page fault counter\n",
    "    page_faults = 0\n",
    "    # initialize list of frames\n",
    "    frame_list = []\n",
    "    # initialize dictionary to keep track of the frequency of pages in frames\n",
    "    page_freq = defaultdict(int)\n",
    "    # iterate over pages\n",
    "    for page in pages:\n",
    "        # if page is not in frames\n",
    "        if page not in frame_list:\n",
    "            # if there is still space in frames\n",
    "            if len(frame_list) < frames:\n",
    "                frame_list.append(page)\n",
    "            # if there is no space in frames\n",
    "            else:\n",
    "                # find the least frequently used page in frames\n",
    "                min_freq = min(page_freq.values())\n",
    "                lfu_pages = [p for p in frame_list if page_freq[p] == min_freq]\n",
    "                lfu_page = lfu_pages[0]\n",
    "                for p in lfu_pages:\n",
    "                    if page_freq[p] < page_freq[lfu_page]:\n",
    "                        lfu_page = p\n",
    "                frame_list.remove(lfu_page)\n",
    "                # add the new page to frames\n",
    "                frame_list.append(page)\n",
    "                page_freq.clear()\n",
    "            # increment frequency of new page\n",
    "            page_freq[page] += 1\n",
    "            # increment page fault counter\n",
    "            page_faults += 1\n",
    "        # if page is already in frames\n",
    "        else:\n",
    "            # increment frequency of page\n",
    "            page_freq[page] += 1\n",
    "    return page_faults\n"
   ]
  },
  {
   "cell_type": "code",
   "execution_count": 8,
   "metadata": {},
   "outputs": [
    {
     "name": "stdout",
     "output_type": "stream",
     "text": [
      "Number of page faults: 8\n"
     ]
    }
   ],
   "source": [
    "pages = [1, 2, 3, 4, 1, 2, 5, 1, 2, 3, 4, 5]\n",
    "frames = 3\n",
    "page_faults = lfu_page_replacement(pages, frames)\n",
    "print(\"Number of page faults:\", page_faults)"
   ]
  }
 ],
 "metadata": {
  "kernelspec": {
   "display_name": "Python 3",
   "language": "python",
   "name": "python3"
  },
  "language_info": {
   "codemirror_mode": {
    "name": "ipython",
    "version": 3
   },
   "file_extension": ".py",
   "mimetype": "text/x-python",
   "name": "python",
   "nbconvert_exporter": "python",
   "pygments_lexer": "ipython3",
   "version": "3.9.0"
  },
  "orig_nbformat": 4
 },
 "nbformat": 4,
 "nbformat_minor": 2
}
